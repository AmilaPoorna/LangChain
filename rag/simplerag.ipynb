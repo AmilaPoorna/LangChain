{
 "cells": [
  {
   "cell_type": "code",
   "execution_count": 1,
   "id": "def7e299",
   "metadata": {},
   "outputs": [
    {
     "data": {
      "text/plain": [
       "[Document(metadata={'source': 'speech.txt'}, page_content='The world must be made safe for democracy. Its peace must be planted upon the tested foundations of political liberty. We have no selfish ends to serve. We desire no conquest, no dominion. We see no indemnities for ourselves, no material compensation for the sacrifices we shall freely make.')]"
      ]
     },
     "execution_count": 1,
     "metadata": {},
     "output_type": "execute_result"
    }
   ],
   "source": [
    "## Data Ingestion\n",
    "from langchain_community.document_loaders import TextLoader\n",
    "loader=TextLoader(\"speech.txt\")\n",
    "text_documents=loader.load()\n",
    "text_documents"
   ]
  },
  {
   "cell_type": "code",
   "execution_count": 2,
   "id": "6e2f59b3",
   "metadata": {},
   "outputs": [
    {
     "data": {
      "text/plain": [
       "True"
      ]
     },
     "execution_count": 2,
     "metadata": {},
     "output_type": "execute_result"
    }
   ],
   "source": [
    "import os\n",
    "from dotenv import load_dotenv\n",
    "load_dotenv()"
   ]
  },
  {
   "cell_type": "code",
   "execution_count": 3,
   "id": "14f5dd83",
   "metadata": {},
   "outputs": [
    {
     "name": "stderr",
     "output_type": "stream",
     "text": [
      "USER_AGENT environment variable not set, consider setting it to identify your requests.\n"
     ]
    }
   ],
   "source": [
    "# Web based loader\n",
    "from langchain_community.document_loaders import WebBaseLoader\n",
    "import bs4\n",
    "\n",
    "## Load, chunk, and index the content of the html page\n",
    "\n",
    "loader=WebBaseLoader(web_paths=(\"https://lilianweng.github.io/posts/2023-06-23-agent/\",),\n",
    "                     bs_kwargs=dict(parse_only=bs4.SoupStrainer(\n",
    "                         class_=(\"post-title\",\"post_content\",\"post_header\")\n",
    "                     )),)\n",
    "\n",
    "text_documents=loader.load()"
   ]
  },
  {
   "cell_type": "code",
   "execution_count": 4,
   "id": "34c5e63b",
   "metadata": {},
   "outputs": [
    {
     "data": {
      "text/plain": [
       "[Document(metadata={'source': 'https://lilianweng.github.io/posts/2023-06-23-agent/'}, page_content='\\n      LLM Powered Autonomous Agents\\n    ')]"
      ]
     },
     "execution_count": 4,
     "metadata": {},
     "output_type": "execute_result"
    }
   ],
   "source": [
    "text_documents"
   ]
  },
  {
   "cell_type": "code",
   "execution_count": 5,
   "id": "1e3b19e4",
   "metadata": {},
   "outputs": [],
   "source": [
    "from langchain_community.document_loaders import PyPDFLoader\n",
    "loader=PyPDFLoader('attention.pdf')\n",
    "docs=loader.load()"
   ]
  },
  {
   "cell_type": "code",
   "execution_count": 6,
   "id": "35433a81",
   "metadata": {},
   "outputs": [
    {
     "data": {
      "text/plain": [
       "[Document(metadata={'producer': 'Canva', 'creator': 'Canva', 'creationdate': '2025-06-27T11:07:02+00:00', 'title': 'ST 4035 - Group project proposal - Group G', 'moddate': '2025-06-27T11:07:01+00:00', 'keywords': 'DAGKon8PbcA,BAEqMF8krfE,0', 'author': 'Umayangana Ganeshi', 'source': 'attention.pdf', 'total_pages': 1, 'page': 0, 'page_label': '1'}, page_content=\"PROJECT PROPOSAL Prepared by : Group G\\nUnderstanding and predicting happiness levels among residents of Somerville, New Jersey, is essential\\nfor enhancing community well-being. Happiness is a fundamental indicator of life satisfaction and\\nreflects the quality of life in a city. This study aims to develop and implement predictive models that\\ncan accurately predict happiness levels. By leveraging machine learning techniques, this study seeks to\\nidentify key predictors of happiness and create predictive models. Additionally, developing a web-\\nbased dashboard or mobile solution will facilitate the presentation and accessibility of these predictive\\ninsights, empowering stakeholders to monitor and act upon happiness trends in real time.\\nDATA\\nThe dataset contains Somerville Happiness Survey results from 2011 - 2023. It consists of 11191\\nobservations. The survey asks residents of the city to assess their personal happiness, wellbeing,\\nand satisfaction with city services. The dependent variable includes the levels of happiness on a 5 -\\npoint scale.\\nSUGGESTED METHODOLOGY\\nConduct a comprehensive descriptive analysis, identifying patterns and potentially significant variables\\nby using suitable figures and tables.\\nImplement machine learning models suitable for multiclass classification, such as Multinomial Logistic\\nRegression, KNN, Naive Bayes, Decision Trees, Random Forest, SVM and XGboost classifiers. Use\\ncross validation to fine tune parameters.\\n15747 - Amila Poorna\\n15665 - Tashini Ramindi\\n15642 - Hasini Nimesha\\n15669 - Ganeshi Umayangana\\nMACHINE LEARNING INSIGHTS FOR\\nSOMERVILLE HAPPINESS LEVEL\\nPREDICTION\\nDataset:\\nBACKGROUND OF THE PROJECT\\nSomerville Happiness Survey Responses\\nData dictionary:\\nSomerville_Happiness_Survey_Data_Dictionary_2011-2023\\n1.Develop and implement predictive models that accurately predict happiness levels among\\nresidents of Somerville, New Jersey.\\n2.Develop a web based dashboard/mobile solution to present the final product.\\nOBJECTIVES OF THE PROJECT\\nPredicting happiness accurately holds significant value for both researchers and policymakers\\nbecause by pinpointing specific areas that require attention and improvement, they can effectively\\naddress the factors contributing to residents' happiness. Ultimately, such efforts lead to more\\nprosperous and thriving communities.\\nSIGNIFICANCE OF THE PROJECT\")]"
      ]
     },
     "execution_count": 6,
     "metadata": {},
     "output_type": "execute_result"
    }
   ],
   "source": [
    "docs"
   ]
  },
  {
   "cell_type": "code",
   "execution_count": 7,
   "id": "ba6be521",
   "metadata": {},
   "outputs": [
    {
     "data": {
      "text/plain": [
       "[Document(metadata={'producer': 'Canva', 'creator': 'Canva', 'creationdate': '2025-06-27T11:07:02+00:00', 'title': 'ST 4035 - Group project proposal - Group G', 'moddate': '2025-06-27T11:07:01+00:00', 'keywords': 'DAGKon8PbcA,BAEqMF8krfE,0', 'author': 'Umayangana Ganeshi', 'source': 'attention.pdf', 'total_pages': 1, 'page': 0, 'page_label': '1'}, page_content='PROJECT PROPOSAL Prepared by : Group G\\nUnderstanding and predicting happiness levels among residents of Somerville, New Jersey, is essential\\nfor enhancing community well-being. Happiness is a fundamental indicator of life satisfaction and\\nreflects the quality of life in a city. This study aims to develop and implement predictive models that\\ncan accurately predict happiness levels. By leveraging machine learning techniques, this study seeks to\\nidentify key predictors of happiness and create predictive models. Additionally, developing a web-\\nbased dashboard or mobile solution will facilitate the presentation and accessibility of these predictive\\ninsights, empowering stakeholders to monitor and act upon happiness trends in real time.\\nDATA\\nThe dataset contains Somerville Happiness Survey results from 2011 - 2023. It consists of 11191\\nobservations. The survey asks residents of the city to assess their personal happiness, wellbeing,'),\n",
       " Document(metadata={'producer': 'Canva', 'creator': 'Canva', 'creationdate': '2025-06-27T11:07:02+00:00', 'title': 'ST 4035 - Group project proposal - Group G', 'moddate': '2025-06-27T11:07:01+00:00', 'keywords': 'DAGKon8PbcA,BAEqMF8krfE,0', 'author': 'Umayangana Ganeshi', 'source': 'attention.pdf', 'total_pages': 1, 'page': 0, 'page_label': '1'}, page_content='DATA\\nThe dataset contains Somerville Happiness Survey results from 2011 - 2023. It consists of 11191\\nobservations. The survey asks residents of the city to assess their personal happiness, wellbeing,\\nand satisfaction with city services. The dependent variable includes the levels of happiness on a 5 -\\npoint scale.\\nSUGGESTED METHODOLOGY\\nConduct a comprehensive descriptive analysis, identifying patterns and potentially significant variables\\nby using suitable figures and tables.\\nImplement machine learning models suitable for multiclass classification, such as Multinomial Logistic\\nRegression, KNN, Naive Bayes, Decision Trees, Random Forest, SVM and XGboost classifiers. Use\\ncross validation to fine tune parameters.\\n15747 - Amila Poorna\\n15665 - Tashini Ramindi\\n15642 - Hasini Nimesha\\n15669 - Ganeshi Umayangana\\nMACHINE LEARNING INSIGHTS FOR\\nSOMERVILLE HAPPINESS LEVEL\\nPREDICTION\\nDataset:\\nBACKGROUND OF THE PROJECT\\nSomerville Happiness Survey Responses\\nData dictionary:'),\n",
       " Document(metadata={'producer': 'Canva', 'creator': 'Canva', 'creationdate': '2025-06-27T11:07:02+00:00', 'title': 'ST 4035 - Group project proposal - Group G', 'moddate': '2025-06-27T11:07:01+00:00', 'keywords': 'DAGKon8PbcA,BAEqMF8krfE,0', 'author': 'Umayangana Ganeshi', 'source': 'attention.pdf', 'total_pages': 1, 'page': 0, 'page_label': '1'}, page_content=\"15669 - Ganeshi Umayangana\\nMACHINE LEARNING INSIGHTS FOR\\nSOMERVILLE HAPPINESS LEVEL\\nPREDICTION\\nDataset:\\nBACKGROUND OF THE PROJECT\\nSomerville Happiness Survey Responses\\nData dictionary:\\nSomerville_Happiness_Survey_Data_Dictionary_2011-2023\\n1.Develop and implement predictive models that accurately predict happiness levels among\\nresidents of Somerville, New Jersey.\\n2.Develop a web based dashboard/mobile solution to present the final product.\\nOBJECTIVES OF THE PROJECT\\nPredicting happiness accurately holds significant value for both researchers and policymakers\\nbecause by pinpointing specific areas that require attention and improvement, they can effectively\\naddress the factors contributing to residents' happiness. Ultimately, such efforts lead to more\\nprosperous and thriving communities.\\nSIGNIFICANCE OF THE PROJECT\")]"
      ]
     },
     "execution_count": 7,
     "metadata": {},
     "output_type": "execute_result"
    }
   ],
   "source": [
    "from langchain.text_splitter import RecursiveCharacterTextSplitter\n",
    "text_splitter=RecursiveCharacterTextSplitter(chunk_size=1000,chunk_overlap=200)\n",
    "documents=text_splitter.split_documents(docs)\n",
    "documents[:5]"
   ]
  },
  {
   "cell_type": "code",
   "execution_count": 8,
   "id": "508b1994",
   "metadata": {},
   "outputs": [
    {
     "data": {
      "text/plain": [
       "[Document(metadata={'producer': 'Canva', 'creator': 'Canva', 'creationdate': '2025-06-27T11:07:02+00:00', 'title': 'ST 4035 - Group project proposal - Group G', 'moddate': '2025-06-27T11:07:01+00:00', 'keywords': 'DAGKon8PbcA,BAEqMF8krfE,0', 'author': 'Umayangana Ganeshi', 'source': 'attention.pdf', 'total_pages': 1, 'page': 0, 'page_label': '1'}, page_content='PROJECT PROPOSAL Prepared by : Group G\\nUnderstanding and predicting happiness levels among residents of Somerville, New Jersey, is essential\\nfor enhancing community well-being. Happiness is a fundamental indicator of life satisfaction and\\nreflects the quality of life in a city. This study aims to develop and implement predictive models that\\ncan accurately predict happiness levels. By leveraging machine learning techniques, this study seeks to\\nidentify key predictors of happiness and create predictive models. Additionally, developing a web-\\nbased dashboard or mobile solution will facilitate the presentation and accessibility of these predictive\\ninsights, empowering stakeholders to monitor and act upon happiness trends in real time.\\nDATA\\nThe dataset contains Somerville Happiness Survey results from 2011 - 2023. It consists of 11191\\nobservations. The survey asks residents of the city to assess their personal happiness, wellbeing,'),\n",
       " Document(metadata={'producer': 'Canva', 'creator': 'Canva', 'creationdate': '2025-06-27T11:07:02+00:00', 'title': 'ST 4035 - Group project proposal - Group G', 'moddate': '2025-06-27T11:07:01+00:00', 'keywords': 'DAGKon8PbcA,BAEqMF8krfE,0', 'author': 'Umayangana Ganeshi', 'source': 'attention.pdf', 'total_pages': 1, 'page': 0, 'page_label': '1'}, page_content='DATA\\nThe dataset contains Somerville Happiness Survey results from 2011 - 2023. It consists of 11191\\nobservations. The survey asks residents of the city to assess their personal happiness, wellbeing,\\nand satisfaction with city services. The dependent variable includes the levels of happiness on a 5 -\\npoint scale.\\nSUGGESTED METHODOLOGY\\nConduct a comprehensive descriptive analysis, identifying patterns and potentially significant variables\\nby using suitable figures and tables.\\nImplement machine learning models suitable for multiclass classification, such as Multinomial Logistic\\nRegression, KNN, Naive Bayes, Decision Trees, Random Forest, SVM and XGboost classifiers. Use\\ncross validation to fine tune parameters.\\n15747 - Amila Poorna\\n15665 - Tashini Ramindi\\n15642 - Hasini Nimesha\\n15669 - Ganeshi Umayangana\\nMACHINE LEARNING INSIGHTS FOR\\nSOMERVILLE HAPPINESS LEVEL\\nPREDICTION\\nDataset:\\nBACKGROUND OF THE PROJECT\\nSomerville Happiness Survey Responses\\nData dictionary:'),\n",
       " Document(metadata={'producer': 'Canva', 'creator': 'Canva', 'creationdate': '2025-06-27T11:07:02+00:00', 'title': 'ST 4035 - Group project proposal - Group G', 'moddate': '2025-06-27T11:07:01+00:00', 'keywords': 'DAGKon8PbcA,BAEqMF8krfE,0', 'author': 'Umayangana Ganeshi', 'source': 'attention.pdf', 'total_pages': 1, 'page': 0, 'page_label': '1'}, page_content=\"15669 - Ganeshi Umayangana\\nMACHINE LEARNING INSIGHTS FOR\\nSOMERVILLE HAPPINESS LEVEL\\nPREDICTION\\nDataset:\\nBACKGROUND OF THE PROJECT\\nSomerville Happiness Survey Responses\\nData dictionary:\\nSomerville_Happiness_Survey_Data_Dictionary_2011-2023\\n1.Develop and implement predictive models that accurately predict happiness levels among\\nresidents of Somerville, New Jersey.\\n2.Develop a web based dashboard/mobile solution to present the final product.\\nOBJECTIVES OF THE PROJECT\\nPredicting happiness accurately holds significant value for both researchers and policymakers\\nbecause by pinpointing specific areas that require attention and improvement, they can effectively\\naddress the factors contributing to residents' happiness. Ultimately, such efforts lead to more\\nprosperous and thriving communities.\\nSIGNIFICANCE OF THE PROJECT\")]"
      ]
     },
     "execution_count": 8,
     "metadata": {},
     "output_type": "execute_result"
    }
   ],
   "source": [
    "documents"
   ]
  },
  {
   "cell_type": "code",
   "execution_count": 9,
   "id": "9c4e6714",
   "metadata": {},
   "outputs": [
    {
     "name": "stderr",
     "output_type": "stream",
     "text": [
      "C:\\Users\\User\\AppData\\Local\\Temp\\ipykernel_8248\\4157445334.py:5: LangChainDeprecationWarning: The class `OllamaEmbeddings` was deprecated in LangChain 0.3.1 and will be removed in 1.0.0. An updated version of the class exists in the :class:`~langchain-ollama package and should be used instead. To use it run `pip install -U :class:`~langchain-ollama` and import as `from :class:`~langchain_ollama import OllamaEmbeddings``.\n",
      "  db1=Chroma.from_documents(documents,OllamaEmbeddings())\n"
     ]
    }
   ],
   "source": [
    "## Vector embedding and vector store\n",
    "\n",
    "from langchain_community.embeddings import OllamaEmbeddings\n",
    "from langchain_community.vectorstores import Chroma\n",
    "db1=Chroma.from_documents(documents,OllamaEmbeddings())\n",
    "\n",
    "# Please close other applications if a memory error occurs."
   ]
  },
  {
   "cell_type": "code",
   "execution_count": 10,
   "id": "bc0d90f1",
   "metadata": {},
   "outputs": [
    {
     "data": {
      "text/plain": [
       "'DATA\\nThe dataset contains Somerville Happiness Survey results from 2011 - 2023. It consists of 11191\\nobservations. The survey asks residents of the city to assess their personal happiness, wellbeing,\\nand satisfaction with city services. The dependent variable includes the levels of happiness on a 5 -\\npoint scale.\\nSUGGESTED METHODOLOGY\\nConduct a comprehensive descriptive analysis, identifying patterns and potentially significant variables\\nby using suitable figures and tables.\\nImplement machine learning models suitable for multiclass classification, such as Multinomial Logistic\\nRegression, KNN, Naive Bayes, Decision Trees, Random Forest, SVM and XGboost classifiers. Use\\ncross validation to fine tune parameters.\\n15747 - Amila Poorna\\n15665 - Tashini Ramindi\\n15642 - Hasini Nimesha\\n15669 - Ganeshi Umayangana\\nMACHINE LEARNING INSIGHTS FOR\\nSOMERVILLE HAPPINESS LEVEL\\nPREDICTION\\nDataset:\\nBACKGROUND OF THE PROJECT\\nSomerville Happiness Survey Responses\\nData dictionary:'"
      ]
     },
     "execution_count": 10,
     "metadata": {},
     "output_type": "execute_result"
    }
   ],
   "source": [
    "## Vector database\n",
    "query=\"Implement machine learning models suitable for multiclass classification\"\n",
    "result=db1.similarity_search(query)\n",
    "result[0].page_content"
   ]
  },
  {
   "cell_type": "code",
   "execution_count": 11,
   "id": "a73cea39",
   "metadata": {},
   "outputs": [],
   "source": [
    "## FAISS vector database\n",
    "from langchain_community.vectorstores import FAISS\n",
    "db2=FAISS.from_documents(documents,OllamaEmbeddings())"
   ]
  },
  {
   "cell_type": "code",
   "execution_count": 12,
   "id": "449c6e33",
   "metadata": {},
   "outputs": [
    {
     "data": {
      "text/plain": [
       "'DATA\\nThe dataset contains Somerville Happiness Survey results from 2011 - 2023. It consists of 11191\\nobservations. The survey asks residents of the city to assess their personal happiness, wellbeing,\\nand satisfaction with city services. The dependent variable includes the levels of happiness on a 5 -\\npoint scale.\\nSUGGESTED METHODOLOGY\\nConduct a comprehensive descriptive analysis, identifying patterns and potentially significant variables\\nby using suitable figures and tables.\\nImplement machine learning models suitable for multiclass classification, such as Multinomial Logistic\\nRegression, KNN, Naive Bayes, Decision Trees, Random Forest, SVM and XGboost classifiers. Use\\ncross validation to fine tune parameters.\\n15747 - Amila Poorna\\n15665 - Tashini Ramindi\\n15642 - Hasini Nimesha\\n15669 - Ganeshi Umayangana\\nMACHINE LEARNING INSIGHTS FOR\\nSOMERVILLE HAPPINESS LEVEL\\nPREDICTION\\nDataset:\\nBACKGROUND OF THE PROJECT\\nSomerville Happiness Survey Responses\\nData dictionary:'"
      ]
     },
     "execution_count": 12,
     "metadata": {},
     "output_type": "execute_result"
    }
   ],
   "source": [
    "query=\"Implement machine learning models suitable for multiclass classification\"\n",
    "result=db2.similarity_search(query)\n",
    "result[0].page_content"
   ]
  },
  {
   "cell_type": "code",
   "execution_count": 13,
   "id": "cedb82b7",
   "metadata": {},
   "outputs": [],
   "source": [
    "## Lance vector database\n",
    "from langchain_community.vectorstores import LanceDB\n",
    "db3=LanceDB.from_documents(documents,OllamaEmbeddings())"
   ]
  },
  {
   "cell_type": "code",
   "execution_count": 14,
   "id": "df52309e",
   "metadata": {},
   "outputs": [
    {
     "data": {
      "text/plain": [
       "'DATA\\nThe dataset contains Somerville Happiness Survey results from 2011 - 2023. It consists of 11191\\nobservations. The survey asks residents of the city to assess their personal happiness, wellbeing,\\nand satisfaction with city services. The dependent variable includes the levels of happiness on a 5 -\\npoint scale.\\nSUGGESTED METHODOLOGY\\nConduct a comprehensive descriptive analysis, identifying patterns and potentially significant variables\\nby using suitable figures and tables.\\nImplement machine learning models suitable for multiclass classification, such as Multinomial Logistic\\nRegression, KNN, Naive Bayes, Decision Trees, Random Forest, SVM and XGboost classifiers. Use\\ncross validation to fine tune parameters.\\n15747 - Amila Poorna\\n15665 - Tashini Ramindi\\n15642 - Hasini Nimesha\\n15669 - Ganeshi Umayangana\\nMACHINE LEARNING INSIGHTS FOR\\nSOMERVILLE HAPPINESS LEVEL\\nPREDICTION\\nDataset:\\nBACKGROUND OF THE PROJECT\\nSomerville Happiness Survey Responses\\nData dictionary:'"
      ]
     },
     "execution_count": 14,
     "metadata": {},
     "output_type": "execute_result"
    }
   ],
   "source": [
    "query=\"Implement machine learning models suitable for multiclass classification\"\n",
    "result=db3.similarity_search(query)\n",
    "result[0].page_content"
   ]
  }
 ],
 "metadata": {
  "kernelspec": {
   "display_name": "Python 3",
   "language": "python",
   "name": "python3"
  },
  "language_info": {
   "codemirror_mode": {
    "name": "ipython",
    "version": 3
   },
   "file_extension": ".py",
   "mimetype": "text/x-python",
   "name": "python",
   "nbconvert_exporter": "python",
   "pygments_lexer": "ipython3",
   "version": "3.10.0"
  }
 },
 "nbformat": 4,
 "nbformat_minor": 5
}
